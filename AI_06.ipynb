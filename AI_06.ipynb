{
  "nbformat": 4,
  "nbformat_minor": 0,
  "metadata": {
    "colab": {
      "provenance": []
    },
    "kernelspec": {
      "name": "python3",
      "display_name": "Python 3"
    },
    "language_info": {
      "name": "python"
    }
  },
  "cells": [
    {
      "cell_type": "code",
      "execution_count": null,
      "metadata": {
        "id": "Ku6YKu7iJw2T"
      },
      "outputs": [],
      "source": [
        "MAX,MIN=1000,-1000\n",
        "def minimax(depth,nodeIndex,maximizingPlayer,values,alpha,beta,branching,maxDepth):\n",
        "  if depth==maxDepth:\n",
        "    return values[nodeIndex]\n",
        "  if maximizingPlayer:\n",
        "    best=MIN\n",
        "    for i in range(0,branching):\n",
        "      val=minimax(depth+1,nodeIndex*2+i,False,values,alpha,beta,branching,maxDepth)\n",
        "      best=max(best,val)\n",
        "      alpha=max(alpha,best)\n",
        "      if beta<=alpha:\n",
        "        break\n",
        "    return best\n",
        "  else:\n",
        "    best=MAX\n",
        "    for i in range(0,branching):\n",
        "      val=minimax(depth+1,nodeIndex*2+i,True,values,alpha,beta,branching,maxDepth)\n",
        "      best=min(best,val)\n",
        "      beta=min(beta,best)\n",
        "      if beta<=alpha:\n",
        "        break\n",
        "    return best"
      ]
    },
    {
      "cell_type": "code",
      "source": [
        "b=2\n",
        "maxDepth=3\n",
        "values=[3,5,6,9,1,2,0,-1]\n",
        "print(\"The optimal value is :\",minimax(0,0,True,values,MIN,MAX,b,maxDepth))"
      ],
      "metadata": {
        "colab": {
          "base_uri": "https://localhost:8080/"
        },
        "id": "WhkszQBNNMp4",
        "outputId": "319649b9-592d-41d9-a739-47aba09a39d4"
      },
      "execution_count": null,
      "outputs": [
        {
          "output_type": "stream",
          "name": "stdout",
          "text": [
            "The optimal value is : 5\n"
          ]
        }
      ]
    },
    {
      "cell_type": "code",
      "source": [
        "b=4\n",
        "maxDepth=2\n",
        "values=[3,5,6,9,1,2,0,-1,-3,-5,-6,-9,-1,-2,0,1]\n",
        "print(\"The optimal value is :\",minimax(0,0,True,values,MIN,MAX,b,maxDepth))"
      ],
      "metadata": {
        "colab": {
          "base_uri": "https://localhost:8080/"
        },
        "id": "mMmGHDdSNdm9",
        "outputId": "da7c4ef7-7d04-4402-ba7a-94bf535d7e0d"
      },
      "execution_count": null,
      "outputs": [
        {
          "output_type": "stream",
          "name": "stdout",
          "text": [
            "The optimal value is : 3\n"
          ]
        }
      ]
    },
    {
      "cell_type": "code",
      "source": [],
      "metadata": {
        "id": "nFay6n5PN1qd"
      },
      "execution_count": null,
      "outputs": []
    }
  ]
}