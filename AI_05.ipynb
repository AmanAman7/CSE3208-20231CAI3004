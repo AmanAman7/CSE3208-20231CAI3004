{
  "nbformat": 4,
  "nbformat_minor": 0,
  "metadata": {
    "colab": {
      "provenance": []
    },
    "kernelspec": {
      "name": "python3",
      "display_name": "Python 3"
    },
    "language_info": {
      "name": "python"
    }
  },
  "cells": [
    {
      "cell_type": "code",
      "execution_count": null,
      "metadata": {
        "id": "KmPvAAQZJEXQ"
      },
      "outputs": [],
      "source": [
        "import queue"
      ]
    },
    {
      "cell_type": "code",
      "source": [
        "def getHeuristics():\n",
        "    heuristics = {}\n",
        "    f = open(\"/content/heuristics.txt\")\n",
        "    for i in f.readlines():\n",
        "        node_heuristic_val = i.split()\n",
        "        heuristics[node_heuristic_val[0]] = int(node_heuristic_val[1])\n",
        "    return heuristics"
      ],
      "metadata": {
        "id": "6xRe6fWEJ4YP"
      },
      "execution_count": null,
      "outputs": []
    },
    {
      "cell_type": "code",
      "source": [
        "def createGraph():\n",
        "    graph = {}\n",
        "    file = open(\"/content/citiesGraph.txt\")\n",
        "    for i in file.readlines():\n",
        "        node_val = i.split()\n",
        "        if node_val[0] in graph and node_val[1] in graph:\n",
        "            c = graph.get(node_val[0])\n",
        "            c.append([node_val[1], node_val[2]])\n",
        "            graph.update({node_val[0]: c})\n",
        "            c = graph.get(node_val[1])\n",
        "            c.append([node_val[0], node_val[2]])\n",
        "            graph.update({node_val[1]: c})\n",
        "        elif node_val[0] in graph:\n",
        "            c = graph.get(node_val[0])\n",
        "            c.append([node_val[1], node_val[2]])\n",
        "            graph.update({node_val[0]: c})\n",
        "            graph[node_val[1]] = [[node_val[0], node_val[2]]]\n",
        "        elif node_val[1] in graph:\n",
        "            c = graph.get(node_val[1])\n",
        "            c.append([node_val[0], node_val[2]])\n",
        "            graph.update({node_val[1]: c})\n",
        "            graph[node_val[0]] = [[node_val[1], node_val[2]]]\n",
        "        else:\n",
        "            graph[node_val[0]] = [[node_val[1], node_val[2]]]\n",
        "            graph[node_val[1]] = [[node_val[0], node_val[2]]]\n",
        "    return graph"
      ],
      "metadata": {
        "id": "f25DPvPpK2Pg"
      },
      "execution_count": null,
      "outputs": []
    },
    {
      "cell_type": "code",
      "source": [
        "def GBFS(startNode, heuristics, graph, goalNode=\"Bucharest\"):\n",
        "    priorityQueue = queue.PriorityQueue()\n",
        "    priorityQueue.put((heuristics[startNode], startNode))\n",
        "    path = []\n",
        "    while priorityQueue.empty() == False:\n",
        "        current = priorityQueue.get()[1]\n",
        "        path.append(current)\n",
        "        if current == goalNode:\n",
        "            break\n",
        "        priorityQueue = queue.PriorityQueue()\n",
        "        for i in graph[current]:\n",
        "            if i[0] not in path:\n",
        "                priorityQueue.put((heuristics[i[0]], i[0]))\n",
        "    return path"
      ],
      "metadata": {
        "id": "nWPtC2fySQoX"
      },
      "execution_count": null,
      "outputs": []
    },
    {
      "cell_type": "code",
      "source": [
        "def Astar(startNode, heuristics, graph, goalNode=\"Bucharest\"):\n",
        "  priorityQueue = queue.PriorityQueue()\n",
        "  distance = 0\n",
        "  path = []\n",
        "  priorityQueue.put((heuristics[startNode] + distance, [startNode, 0]))\n",
        "  while priorityQueue.empty() == False:\n",
        "    current = priorityQueue.get()[1]\n",
        "    path.append(current[0])\n",
        "    distance += int(current[1])\n",
        "    if current[0] == goalNode:\n",
        "      break\n",
        "    priorityQueue = queue.PriorityQueue()\n",
        "    for i in graph[current[0]]:\n",
        "      if i[0] not in path:\n",
        "        priorityQueue.put((heuristics[i[0]] + int(i[1]) + distance, i))\n",
        "  return path"
      ],
      "metadata": {
        "id": "Dlc0Q4UVNHgv"
      },
      "execution_count": null,
      "outputs": []
    },
    {
      "cell_type": "code",
      "source": [
        "heuristic = getHeuristics()\n",
        "graph = createGraph()\n",
        "#city, citiesCode = getCity()\n",
        "\n",
        "cityName = \"Zerind\" #citiesCode[inputCode]\n",
        "gbfs = GBFS(cityName, heuristic, graph)\n",
        "astar = Astar(cityName, heuristic, graph)\n",
        "print(\"GBFS => \", gbfs)\n",
        "print(\"ASTAR => \", astar)"
      ],
      "metadata": {
        "colab": {
          "base_uri": "https://localhost:8080/"
        },
        "id": "DLJ4cFVzQWeF",
        "outputId": "dffeafb3-c670-4296-afb2-cdbe00cb364a"
      },
      "execution_count": null,
      "outputs": [
        {
          "output_type": "stream",
          "name": "stdout",
          "text": [
            "GBFS =>  ['Zerind', 'Arad', 'Sibiu', 'Fagaras', 'Bucharest']\n",
            "ASTAR =>  ['Zerind', 'Arad', 'Sibiu', 'Rimnicu_Vilcea', 'Pitesti', 'Bucharest']\n"
          ]
        }
      ]
    }
  ]
}