{
  "nbformat": 4,
  "nbformat_minor": 0,
  "metadata": {
    "colab": {
      "provenance": []
    },
    "kernelspec": {
      "name": "python3",
      "display_name": "Python 3"
    },
    "language_info": {
      "name": "python"
    }
  },
  "cells": [
    {
      "cell_type": "markdown",
      "source": [
        "BFS"
      ],
      "metadata": {
        "id": "Oz8NGsiGGu6-"
      }
    },
    {
      "cell_type": "code",
      "execution_count": null,
      "metadata": {
        "id": "w_I9qJT_FMh4"
      },
      "outputs": [],
      "source": [
        "graph = {\n",
        "  '5' : ['3','7'],\n",
        "  '3' : ['2', '4'],\n",
        "  '7' : ['8'],\n",
        "  '2' : [],\n",
        "  '4' : ['8'],\n",
        "  '8' : []\n",
        "}\n"
      ]
    },
    {
      "cell_type": "code",
      "source": [
        "visited=[]\n",
        "queue=[]"
      ],
      "metadata": {
        "id": "a8C9v-P9GqON"
      },
      "execution_count": null,
      "outputs": []
    },
    {
      "cell_type": "code",
      "source": [
        "def bfs(visited, graph, node):\n",
        "  visited.append(node)\n",
        "  queue.append(node)\n",
        "  while queue:\n",
        "    m=queue.pop(0)\n",
        "    print(m, end=\" \")\n",
        "    for neighbour in graph[m]:\n",
        "      if neighbour not in visited:\n",
        "        visited.append(neighbour)\n",
        "        queue.append(neighbour)"
      ],
      "metadata": {
        "id": "KDlN8vdnGmp9"
      },
      "execution_count": null,
      "outputs": []
    },
    {
      "cell_type": "code",
      "source": [
        "print(\"Following is the Breadth-First Search\")\n",
        "bfs(visited, graph, '5')"
      ],
      "metadata": {
        "colab": {
          "base_uri": "https://localhost:8080/"
        },
        "id": "X0rmdy90GcwW",
        "outputId": "aed52b4e-0bc2-4a1f-9c53-2367b816cc88"
      },
      "execution_count": null,
      "outputs": [
        {
          "output_type": "stream",
          "name": "stdout",
          "text": [
            "Following is the Breadth-First Search\n",
            "5 3 7 2 4 8 "
          ]
        }
      ]
    },
    {
      "cell_type": "markdown",
      "source": [
        "DFS"
      ],
      "metadata": {
        "id": "8Erbo8bCG-tF"
      }
    },
    {
      "cell_type": "code",
      "source": [
        "graph = {\n",
        "  '5' : ['3','7'],\n",
        "  '3' : ['2', '4'],\n",
        "  '7' : ['8'],\n",
        "  '2' : [],\n",
        "  '4' : ['8'],\n",
        "  '8' : []\n",
        "}"
      ],
      "metadata": {
        "id": "RP7z3slZGtAN"
      },
      "execution_count": null,
      "outputs": []
    },
    {
      "cell_type": "code",
      "source": [
        "visited = set()"
      ],
      "metadata": {
        "id": "FBs-jo5GHI1N"
      },
      "execution_count": null,
      "outputs": []
    },
    {
      "cell_type": "code",
      "source": [
        "def dfs(visited, graph, node):\n",
        "    if node not in visited:\n",
        "        print (node)\n",
        "        visited.add(node)\n",
        "        for neighbour in graph[node]:\n",
        "            dfs(visited, graph, neighbour)"
      ],
      "metadata": {
        "id": "l2EXqNY-HMhs"
      },
      "execution_count": null,
      "outputs": []
    },
    {
      "cell_type": "code",
      "source": [
        "print(\"Following is the Depth-First Search\")\n",
        "dfs(visited, graph, '5')"
      ],
      "metadata": {
        "colab": {
          "base_uri": "https://localhost:8080/"
        },
        "id": "doCyOGewHqr0",
        "outputId": "f0097978-26e8-4b36-eb5e-57ba07b60501"
      },
      "execution_count": null,
      "outputs": [
        {
          "output_type": "stream",
          "name": "stdout",
          "text": [
            "Following is the Depth-First Search\n",
            "5\n",
            "3\n",
            "2\n",
            "4\n",
            "8\n",
            "7\n"
          ]
        }
      ]
    },
    {
      "cell_type": "markdown",
      "source": [
        "UCS"
      ],
      "metadata": {
        "id": "I-_H8Q-RI0N-"
      }
    },
    {
      "cell_type": "code",
      "source": [
        "from sys import argv\n",
        "from heapq import heappush, heappop"
      ],
      "metadata": {
        "id": "71TdaRvdIUo1"
      },
      "execution_count": null,
      "outputs": []
    },
    {
      "cell_type": "code",
      "source": [
        "from os import confstr\n",
        "def uniform_cost_search(goal,start):\n",
        "  global graph,cost\n",
        "  answer=[]\n",
        "  queue=[]\n",
        "  for i in range(len(goal)):\n",
        "    answer.append(10**8)\n",
        "  queue.append([0,start])\n",
        "  visited={}\n",
        "  count=0\n",
        "  while (len(queue)>0):\n",
        "    queue=sorted(queue)\n",
        "    p=queue[-1]\n",
        "    del queue[-1]\n",
        "    p[0]*=-1\n",
        "    if(p[1] in goal):\n",
        "      index=goal.index(p[1])\n",
        "      if(answer[index]==10**8):\n",
        "        count+=1\n",
        "      if(answer[index]>p[0]):\n",
        "        answer[index]=p[0]\n",
        "      del queue[-1]\n",
        "      if(count==len(goal)):\n",
        "        return answer\n",
        "    if(p[1] not in visited):\n",
        "      for i in range(len(graph[p[1]])):\n",
        "        queue.append([(p[0]+cost[(p[1],graph[p[1]][i])])*-1,graph[p[1]][i]])\n",
        "    visited[p[1]]=1\n",
        "  return answer"
      ],
      "metadata": {
        "id": "jV6a09idJPpU"
      },
      "execution_count": null,
      "outputs": []
    },
    {
      "cell_type": "code",
      "source": [
        "if __name__=='__main__':\n",
        "  graph,cost=[[] for i in range(8)],{}\n",
        "  graph[0].append(1)\n",
        "  graph[0].append(3)\n",
        "  graph[3].append(1)\n",
        "  graph[3].append(6)\n",
        "  graph[3].append(4)\n",
        "  graph[1].append(6)\n",
        "  graph[4].append(2)\n",
        "  graph[4].append(5)\n",
        "  graph[2].append(1)\n",
        "  graph[5].append(2)\n",
        "  graph[5].append(6)\n",
        "  graph[6].append(4)\n",
        "  cost[(0,1)]=3\n",
        "  cost[(0,3)]=1\n",
        "  cost[(1,6)]=1\n",
        "  cost[(3,1)]=2\n",
        "  cost[(3,6)]=6\n",
        "  cost[(3,4)]=2\n",
        "  cost[(2,1)]=4\n",
        "  cost[(4,2)]=4\n",
        "  cost[(4,5)]=3\n",
        "  cost[(5,2)]=6\n",
        "  cost[(5,6)]=3\n",
        "  cost[(6,4)]=7\n",
        "  goal=[]\n",
        "  goal.append(6)\n",
        "  answer=uniform_cost_search(goal,0)\n",
        "  print(\"Minimum cost from 0 to 6 is = \",answer[0])"
      ],
      "metadata": {
        "colab": {
          "base_uri": "https://localhost:8080/"
        },
        "id": "SDM_uLDdKwWc",
        "outputId": "c5ecd43f-89b9-495a-c65c-2d44c6bf88aa"
      },
      "execution_count": null,
      "outputs": [
        {
          "output_type": "stream",
          "name": "stdout",
          "text": [
            "Minimum cost from 0 to 6 is =  4\n"
          ]
        }
      ]
    }
  ]
}