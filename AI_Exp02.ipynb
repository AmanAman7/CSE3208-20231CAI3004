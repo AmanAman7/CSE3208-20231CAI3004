{
  "nbformat": 4,
  "nbformat_minor": 0,
  "metadata": {
    "colab": {
      "provenance": []
    },
    "kernelspec": {
      "name": "python3",
      "display_name": "Python 3"
    },
    "language_info": {
      "name": "python"
    }
  },
  "cells": [
    {
      "cell_type": "code",
      "execution_count": null,
      "metadata": {
        "colab": {
          "base_uri": "https://localhost:8080/"
        },
        "id": "WiNvXAOhbNxM",
        "outputId": "2133aa16-b31b-4d32-dc63-d1ee4199dd4f"
      },
      "outputs": [
        {
          "output_type": "stream",
          "name": "stdout",
          "text": [
            "20\n"
          ]
        }
      ],
      "source": [
        "RomaniaMap  = dict()\n",
        "vertices = ['A', 'B', 'C', 'D', 'E', 'F', 'G', 'H', 'I', 'L', 'M', 'N', 'O', 'P', 'R', 'S', 'T', 'U', 'V', 'Z']\n",
        "print(len(vertices))"
      ]
    },
    {
      "cell_type": "code",
      "source": [
        "RomaniaMap['A'] = [('S', None, 1), ('T', None, 1), ('Z', None, 1)]\n",
        "RomaniaMap['B'] = [('F', None, 1), ('G', None, 1), ('P', None, 1), ('U', None, 1)]\n",
        "RomaniaMap['C'] = [('D', None, 1), ('R', None, 1), ('P', None, 1)]\n",
        "RomaniaMap['D'] = [('C', None, 1), ('M', None, 1)]\n",
        "RomaniaMap['E'] = [('E', None, 1)]\n",
        "RomaniaMap['F'] = [('B', None, 1), ('S', None, 1)]\n",
        "RomaniaMap['G'] = [('B', None, 1)]\n",
        "RomaniaMap['H'] = [('E', None, 1), ('U', None, 1)]\n",
        "RomaniaMap['I'] = [('N', None, 1), ('V', None, 1)]\n",
        "RomaniaMap['L'] = [('M', None, 1), ('T', None, 1)]\n",
        "RomaniaMap['M'] = [('D', None, 1), ('L', None, 1)]\n",
        "RomaniaMap['N'] = [('I', None, 1)]\n",
        "RomaniaMap['O'] = [('S', None, 1), ('Z', None, 1)]\n",
        "RomaniaMap['P'] = [('B', None, 1), ('C', None, 1), ('R', None, 1)]\n",
        "RomaniaMap['R'] = [('C', None, 1), ('P', None, 1), ('S', None, 1)]\n",
        "RomaniaMap['S'] = [('A', None, 1), ('F', None, 1), ('O', None, 1), ('R', None, 1)]\n",
        "RomaniaMap['T'] = [('A', None, 1), ('L', None, 1)]\n",
        "RomaniaMap['U'] = [('B', None, 1), ('H', None, 1), ('V', None, 1)]\n",
        "RomaniaMap['V'] = [('I', None, 1), ('U', None, 1)]\n",
        "RomaniaMap['Z'] = [('A', None, 1), ('O', None, 1)]\n",
        "print(RomaniaMap)"
      ],
      "metadata": {
        "colab": {
          "base_uri": "https://localhost:8080/"
        },
        "id": "I7d66qv5cWoX",
        "outputId": "e3bc77e5-462d-42a5-a58b-bf484c7e5308"
      },
      "execution_count": null,
      "outputs": [
        {
          "output_type": "stream",
          "name": "stdout",
          "text": [
            "{'A': [('S', None, 1), ('T', None, 1), ('Z', None, 1)], 'B': [('F', None, 1), ('G', None, 1), ('P', None, 1), ('U', None, 1)], 'C': [('D', None, 1), ('R', None, 1), ('P', None, 1)], 'D': [('C', None, 1), ('M', None, 1)], 'E': [('E', None, 1)], 'F': [('B', None, 1), ('S', None, 1)], 'G': [('B', None, 1)], 'H': [('E', None, 1), ('U', None, 1)], 'I': [('N', None, 1), ('V', None, 1)], 'L': [('M', None, 1), ('T', None, 1)], 'M': [('D', None, 1), ('L', None, 1)], 'N': [('I', None, 1)], 'O': [('S', None, 1), ('Z', None, 1)], 'P': [('B', None, 1), ('C', None, 1), ('R', None, 1)], 'R': [('C', None, 1), ('P', None, 1), ('S', None, 1)], 'S': [('A', None, 1), ('F', None, 1), ('O', None, 1), ('R', None, 1)], 'T': [('A', None, 1), ('L', None, 1)], 'U': [('B', None, 1), ('H', None, 1), ('V', None, 1)], 'V': [('I', None, 1), ('U', None, 1)], 'Z': [('A', None, 1), ('O', None, 1)]}\n"
          ]
        }
      ]
    },
    {
      "cell_type": "code",
      "source": [
        "from queue import Queue\n",
        "\n",
        "romaniaMap = {\n",
        "    'Arad': ['Sibiu', 'Zerind', 'Timisoara'],\n",
        "    'Zerind': ['Arad', 'Oradea'],\n",
        "    'Oradea': ['Zerind', 'Sibiu'],\n",
        "    'Sibiu': ['Arad', 'Oradea', 'Fagaras', 'Rimnicu'],\n",
        "    'Timisoara': ['Arad', 'Lugoj'],\n",
        "    'Lugoj': ['Timisoara', 'Mehadia'],\n",
        "    'Mehadia': ['Lugoj', 'Drobeta'],\n",
        "    'Drobeta': ['Mehadia', 'Craiova'],\n",
        "    'Craiova': ['Drobeta', 'Rimnicu', 'Pitesti'],\n",
        "    'Rimnicu': ['Sibiu', 'Craiova', 'Pitesti'],\n",
        "    'Fagaras': ['Sibiu', 'Bucharest'],\n",
        "    'Pitesti': ['Rimnicu', 'Craiova', 'Bucharest'],\n",
        "    'Bucharest': ['Fagaras', 'Pitesti', 'Giurgiu', 'Urziceni'],\n",
        "    'Giurgiu': ['Bucharest'],\n",
        "    'Urziceni': ['Bucharest', 'Vaslui', 'Hirsova'],\n",
        "    'Hirsova': ['Urziceni', 'Eforie'],\n",
        "    'Eforie': ['Hirsova'],\n",
        "    'Vaslui': ['Iasi', 'Urziceni'],\n",
        "    'Iasi': ['Vaslui', 'Neamt'],\n",
        "    'Neamt': ['Iasi']\n",
        "}\n",
        "\n",
        "\n",
        "def bfs(startingNode, destinationNode):\n",
        "    # For keeping track of what we have visited\n",
        "    visited = {}\n",
        "    # keep track of distance\n",
        "    distance = {}\n",
        "    # parent node of specific graph\n",
        "    parent = {}\n",
        "\n",
        "    bfs_traversal_output = []\n",
        "    # BFS is queue based so using 'Queue' from python built-in\n",
        "    queue = Queue()\n",
        "\n",
        "    # travelling the cities in map\n",
        "    for city in romaniaMap.keys():\n",
        "        # since intially no city is visited so there will be nothing in visited list\n",
        "        visited[city] = False\n",
        "        parent[city] = None\n",
        "        distance[city] = -1\n",
        "\n",
        "    # starting from 'Arad'\n",
        "    startingCity = startingNode\n",
        "    visited[startingCity] = True\n",
        "    distance[startingCity] = 0\n",
        "    queue.put(startingCity)\n",
        "\n",
        "    while not queue.empty():\n",
        "        u = queue.get()     # first element of the queue, here it will be 'arad'\n",
        "        bfs_traversal_output.append(u)\n",
        "\n",
        "        # explore the adjust cities adj to 'arad'\n",
        "        for v in romaniaMap[u]:\n",
        "            if not visited[v]:\n",
        "                visited[v] = True\n",
        "                parent[v] = u\n",
        "                distance[v] = distance[u] + 1\n",
        "                queue.put(v)\n",
        "\n",
        "        # reaching our destination city i.e 'bucharest'\n",
        "    g = destinationNode\n",
        "    path = []\n",
        "    while g is not None:\n",
        "        path.append(g)\n",
        "        g = parent[g]\n",
        "\n",
        "    path.reverse()\n",
        "    # printing the path to our destination city\n",
        "    print(path)\n",
        "\n",
        "\n",
        "# Starting City & Destination City\n",
        "bfs('Arad', 'Bucharest')"
      ],
      "metadata": {
        "colab": {
          "base_uri": "https://localhost:8080/"
        },
        "id": "MlamLs3HgvxC",
        "outputId": "cfe1822a-61ab-494d-e769-4aea71aead10"
      },
      "execution_count": null,
      "outputs": [
        {
          "output_type": "stream",
          "name": "stdout",
          "text": [
            "['Arad', 'Sibiu', 'Fagaras', 'Bucharest']\n"
          ]
        }
      ]
    },
    {
      "cell_type": "code",
      "source": [
        "def getNeighbours(x):\n",
        "    # Check if the vertex exists in the graph\n",
        "    if x in RomaniaMap: # Changed 'graph' to 'RomaniaMap'\n",
        "        # Return the sorted list of neighbours\n",
        "        return sorted(RomaniaMap[x]) # Changed 'graph' to 'RomaniaMap'\n",
        "    else:\n",
        "        # If the vertex doesn't exist, return an empty list\n",
        "        return []\n",
        "\n",
        "# Example usage:\n",
        "vertex = 'B'\n",
        "neighbours = getNeighbours(vertex)\n",
        "print(f\"Neighbours of {vertex}: {neighbours}\")\n",
        "\n",
        "vertex = 'G'\n",
        "neighbours = getNeighbours(vertex)\n",
        "print(f\"Neighbours of {vertex}: {neighbours}\")\n",
        "\n",
        "vertex = 'P'\n",
        "neighbours = getNeighbours(vertex)\n",
        "print(f\"Neighbours of {vertex}: {neighbours}\")"
      ],
      "metadata": {
        "colab": {
          "base_uri": "https://localhost:8080/"
        },
        "id": "fHwjdZSehV7i",
        "outputId": "62492898-6a6b-4067-83f8-a6737a095c53"
      },
      "execution_count": null,
      "outputs": [
        {
          "output_type": "stream",
          "name": "stdout",
          "text": [
            "Neighbours of B: [('F', None, 1), ('G', None, 1), ('P', None, 1), ('U', None, 1)]\n",
            "Neighbours of G: [('B', None, 1)]\n",
            "Neighbours of P: [('B', None, 1), ('C', None, 1), ('R', None, 1)]\n"
          ]
        }
      ]
    },
    {
      "cell_type": "code",
      "source": [
        "def createGraph():\n",
        "    # Initialize an empty graph\n",
        "    graph = {}\n",
        "\n",
        "    # Prompt the user for the number of vertices\n",
        "    num_vertices = int(input(\"Enter the number of vertices: \"))\n",
        "\n",
        "    # Loop to input each vertex and its neighbors\n",
        "    for _ in range(num_vertices):\n",
        "        vertex = input(\"\\nEnter vertex: \")\n",
        "        neighbours = input(f\"Enter neighbours of {vertex} separated by spaces: \").split()\n",
        "        graph[vertex] = neighbours\n",
        "\n",
        "    return graph\n",
        "\n",
        "def getNeighbours(graph, x):\n",
        "    # Check if the vertex exists in the graph\n",
        "    if x in graph:\n",
        "        # Return the sorted list of neighbours\n",
        "        return sorted(graph[x])\n",
        "    else:\n",
        "        # If the vertex doesn't exist, return an empty list\n",
        "        return []\n",
        "\n",
        "# Example usage:\n",
        "graph = createGraph()\n",
        "\n",
        "# Ask the user for the vertex to find its neighbours\n",
        "vertex = input(\"\\nEnter the vertex to find its neighbours: \")\n",
        "neighbours = getNeighbours(graph, vertex)\n",
        "print(f\"\\nNeighbours of {vertex}: {neighbours}\")\n"
      ],
      "metadata": {
        "colab": {
          "base_uri": "https://localhost:8080/"
        },
        "id": "cQW8M4ZnhWoy",
        "outputId": "4837a5b2-d6cd-4ae4-d203-0854fd5cac70"
      },
      "execution_count": null,
      "outputs": [
        {
          "output_type": "stream",
          "name": "stdout",
          "text": [
            "Enter the number of vertices: 6\n",
            "\n",
            "Enter vertex: a\n",
            "Enter neighbours of a separated by spaces: 2\n",
            "\n",
            "Enter vertex: b\n",
            "Enter neighbours of b separated by spaces: 3\n",
            "\n",
            "Enter vertex: c\n",
            "Enter neighbours of c separated by spaces: 4\n",
            "\n",
            "Enter vertex: d\n",
            "Enter neighbours of d separated by spaces: 5\n",
            "\n",
            "Enter vertex: e\n",
            "Enter neighbours of e separated by spaces: 6\n",
            "\n",
            "Enter vertex: f\n",
            "Enter neighbours of f separated by spaces: 7\n",
            "\n",
            "Enter the vertex to find its neighbours: d\n",
            "\n",
            "Neighbours of d: ['5']\n"
          ]
        }
      ]
    },
    {
      "cell_type": "code",
      "source": [
        "file1 = open(\"/content/My File.txt\", \"r\")\n",
        "text = file1.read()\n",
        "print(text)"
      ],
      "metadata": {
        "colab": {
          "base_uri": "https://localhost:8080/"
        },
        "id": "wa1LMWwhi6Kz",
        "outputId": "7a5afc2a-0f82-4b61-b646-dc48ad3b18f9"
      },
      "execution_count": null,
      "outputs": [
        {
          "output_type": "stream",
          "name": "stdout",
          "text": [
            "RomaniaMap['A'] = [('S', None, 1), ('T', None, 1), ('Z', None, 1)]\n",
            "RomaniaMap['B'] = [('F', None, 1), ('G', None, 1), ('P', None, 1), ('U', None, 1)]\n",
            "RomaniaMap['C'] = [('D', None, 1), ('R', None, 1), ('P', None, 1)]\n",
            "RomaniaMap['D'] = [('C', None, 1), ('M', None, 1)]\n",
            "RomaniaMap['E'] = [('E', None, 1)]\n",
            "RomaniaMap['F'] = [('B', None, 1), ('S', None, 1)]\n",
            "RomaniaMap['G'] = [('B', None, 1)]\n",
            "RomaniaMap['H'] = [('E', None, 1), ('U', None, 1)]\n",
            "RomaniaMap['I'] = [('N', None, 1), ('V', None, 1)]\n",
            "RomaniaMap['L'] = [('M', None, 1), ('T', None, 1)]\n",
            "RomaniaMap['M'] = [('D', None, 1), ('L', None, 1)]\n",
            "RomaniaMap['N'] = [('I', None, 1)]\n",
            "RomaniaMap['O'] = [('S', None, 1), ('Z', None, 1)]\n",
            "RomaniaMap['P'] = [('B', None, 1), ('C', None, 1), ('R', None, 1)]\n",
            "RomaniaMap['R'] = [('C', None, 1), ('P', None, 1), ('S', None, 1)]\n",
            "RomaniaMap['S'] = [('A', None, 1), ('F', None, 1), ('O', None, 1), ('R', None, 1)]\n",
            "RomaniaMap['T'] = [('A', None, 1), ('L', None, 1)]\n",
            "RomaniaMap['U'] = [('B', None, 1), ('H', None, 1), ('V', None, 1)]\n",
            "RomaniaMap['V'] = [('I', None, 1), ('U', None, 1)]\n",
            "RomaniaMap['Z'] = [('A', None, 1), ('O', None, 1)]\n"
          ]
        }
      ]
    }
  ]
}